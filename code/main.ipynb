{
 "cells": [
  {
   "cell_type": "code",
   "execution_count": 1,
   "metadata": {},
   "outputs": [],
   "source": [
    "import pandas as pd\n",
    "pd.set_option('display.max_columns', None)\n",
    "pd.set_option('display.max_rows', None)"
   ]
  },
  {
   "cell_type": "code",
   "execution_count": 2,
   "metadata": {},
   "outputs": [],
   "source": [
    "from dataload import *\n",
    "from model import *\n",
    "from research import *\n",
    "from helper_functions import *"
   ]
  },
  {
   "attachments": {},
   "cell_type": "markdown",
   "metadata": {},
   "source": [
    "DATA"
   ]
  },
  {
   "cell_type": "code",
   "execution_count": 3,
   "metadata": {},
   "outputs": [],
   "source": [
    "calculer = False"
   ]
  },
  {
   "cell_type": "code",
   "execution_count": 4,
   "metadata": {},
   "outputs": [
    {
     "name": "stdout",
     "output_type": "stream",
     "text": [
      "            Date       HomeTeam       AwayTeam  FTHG  FTAG  HA_Scored  Total_Goals      Note\n",
      "4878  09/05/2025      Wolfsburg     Hoffenheim     2     2          1            4  0.312500\n",
      "4879  10/05/2025         Bochum          Mainz     1     4          1            5  0.270833\n",
      "4880  10/05/2025  Holstein Kiel       Freiburg     1     2          1            3  0.312500\n",
      "4881  10/05/2025   Union Berlin     Heidenheim     0     3          0            3  0.245833\n",
      "4882  10/05/2025  Werder Bremen     RB Leipzig     0     0          0            0  0.091667\n",
      "4883  10/05/2025  Bayern Munich     M'gladbach     2     0          0            2  0.362500\n",
      "4884  11/05/2025     Leverkusen       Dortmund     2     4          1            6  0.245833\n",
      "4885  11/05/2025  Ein Frankfurt       St Pauli     2     2          1            4  0.141667\n",
      "4886  11/05/2025      Stuttgart       Augsburg     4     0          0            4  0.208333\n",
      "4887  17/05/2025       Augsburg   Union Berlin     1     2          1            3  0.333333\n",
      "4888  17/05/2025       Dortmund  Holstein Kiel     3     0          0            3  0.337500\n",
      "4889  17/05/2025       Freiburg  Ein Frankfurt     1     3          1            4  0.400000\n",
      "4890  17/05/2025     Heidenheim  Werder Bremen     1     4          1            5  0.220833\n",
      "4891  17/05/2025     Hoffenheim  Bayern Munich     0     4          0            4  0.358333\n",
      "4892  17/05/2025          Mainz     Leverkusen     2     2          1            4  0.466667\n",
      "4893  17/05/2025     M'gladbach      Wolfsburg     0     1          0            1  0.287500\n",
      "4894  17/05/2025     RB Leipzig      Stuttgart     2     3          1            5  0.287500\n",
      "4895  17/05/2025       St Pauli         Bochum     0     2          0            2  0.141667\n",
      "\n"
     ]
    }
   ],
   "source": [
    "if calculer == False:\n",
    "  dataframe = pd.read_csv('../data/D1_fullDataWithNotes.csv')\n",
    "else:\n",
    "  dataframe = pd.read_csv('../data/D1 10:11.csv')\n",
    "  for i in range(10, 25):\n",
    "    d2 = pd.read_csv(f\"../data/D1 {i}:{i + 1}.csv\")\n",
    "    dataframe = pd.concat([dataframe, d2])\n",
    "  dataframe = arrange_data(dataframe, 'FTHG', 'FTAG', 'HA_Scored', 'Total_Goals')\n",
    "\n",
    "print(f\"{dataframe.tail(18).to_string()}\\n\")"
   ]
  },
  {
   "cell_type": "code",
   "execution_count": 5,
   "metadata": {},
   "outputs": [],
   "source": [
    "if calculer != False:\n",
    "    arrayEquipes = get_equipes(dataframe, 0, 18, 'HomeTeam', 'AwayTeam')\n",
    "    print_array_equipes(arrayEquipes)"
   ]
  },
  {
   "cell_type": "code",
   "execution_count": 6,
   "metadata": {},
   "outputs": [
    {
     "data": {
      "text/plain": [
       "Date            object\n",
       "HomeTeam        object\n",
       "AwayTeam        object\n",
       "FTHG             int64\n",
       "FTAG             int64\n",
       "HA_Scored        int64\n",
       "Total_Goals      int64\n",
       "Note           float64\n",
       "dtype: object"
      ]
     },
     "metadata": {},
     "output_type": "display_data"
    }
   ],
   "source": [
    "display(dataframe.dtypes)"
   ]
  },
  {
   "attachments": {},
   "cell_type": "markdown",
   "metadata": {},
   "source": [
    "MODÈLE"
   ]
  },
  {
   "cell_type": "code",
   "execution_count": 7,
   "metadata": {},
   "outputs": [],
   "source": [
    "if calculer != False:\n",
    "    dataframe['Note'] = ''\n",
    "    dataframe = get_notes(dataframe, 'HomeTeam', 'AwayTeam', 'Date', 'Note', 'HA_Scored', 1)"
   ]
  },
  {
   "cell_type": "code",
   "execution_count": 8,
   "metadata": {},
   "outputs": [],
   "source": [
    "if calculer != False:\n",
    "    print(f\"{dataframe.tail(18).to_string()}\\n\")"
   ]
  },
  {
   "cell_type": "code",
   "execution_count": 9,
   "metadata": {},
   "outputs": [],
   "source": [
    "if calculer != False:\n",
    "    dtcsv = dataframe.to_csv(index=None)\n",
    "    fichier = open(\"../data/D1_fullDataWithNotes.csv\", \"w\")\n",
    "    fichier.write(dtcsv)\n",
    "    fichier.close()\n",
    "    print(dtcsv)"
   ]
  },
  {
   "attachments": {},
   "cell_type": "markdown",
   "metadata": {},
   "source": [
    "RECHERCHE"
   ]
  },
  {
   "cell_type": "code",
   "execution_count": 10,
   "metadata": {},
   "outputs": [
    {
     "name": "stdout",
     "output_type": "stream",
     "text": [
      "Note : 0.42\n",
      "13% à chaque pari\n",
      "[np.int64(1), np.int64(1), np.int64(1), np.int64(0), np.int64(0), np.int64(1), np.int64(1), np.int64(0), np.int64(1)]\n",
      "Sous-résultat : 6/9, 66.66% de réussite\n",
      "[np.int64(1), np.int64(1), np.int64(0), np.int64(1), np.int64(1), np.int64(1), np.int64(1), np.int64(1), np.int64(0)]\n",
      "Sous-résultat : 7/9, 77.77% de réussite\n",
      "[np.int64(1), np.int64(1), np.int64(0), np.int64(0), np.int64(0), np.int64(0), np.int64(0), np.int64(0), np.int64(0)]\n",
      "Sous-résultat : 2/9, 22.22% de réussite\n",
      "[np.int64(1), np.int64(1), np.int64(1), np.int64(1), np.int64(0), np.int64(0), np.int64(1), np.int64(1), np.int64(0)]\n",
      "Sous-résultat : 6/9, 66.66% de réussite\n",
      "[np.int64(1), np.int64(1), np.int64(1), np.int64(0), np.int64(1), np.int64(1), np.int64(1), np.int64(1), np.int64(1)]\n",
      "Sous-résultat : 8/9, 88.88% de réussite\n",
      "[np.int64(0), np.int64(1), np.int64(0), np.int64(0), np.int64(1), np.int64(1), np.int64(0), np.int64(0), np.int64(1)]\n",
      "Sous-résultat : 4/9, 44.44% de réussite\n",
      "[np.int64(0), np.int64(0), np.int64(1), np.int64(0), np.int64(0), np.int64(1), np.int64(0), np.int64(0), np.int64(1)]\n",
      "Sous-résultat : 3/9, 33.33% de réussite\n",
      "[np.int64(1), np.int64(1), np.int64(0), np.int64(0), np.int64(1), np.int64(1), np.int64(1), np.int64(1), np.int64(1)]\n",
      "Sous-résultat : 7/9, 77.77% de réussite\n",
      "[np.int64(1), np.int64(1), np.int64(1), np.int64(1), np.int64(0), np.int64(0), np.int64(1), np.int64(0), np.int64(1)]\n",
      "Sous-résultat : 6/9, 66.66% de réussite\n",
      "[np.int64(1), np.int64(1), np.int64(1), np.int64(1), np.int64(1), np.int64(1), np.int64(1), np.int64(1), np.int64(0)]\n",
      "Sous-résultat : 8/9, 88.88% de réussite\n",
      "[np.int64(0), np.int64(0), np.int64(1), np.int64(1), np.int64(1), np.int64(1), np.int64(0), np.int64(0), np.int64(0)]\n",
      "Sous-résultat : 4/9, 44.44% de réussite\n",
      "[np.int64(1), np.int64(0), np.int64(1), np.int64(1), np.int64(1), np.int64(1), np.int64(1), np.int64(1), np.int64(1)]\n",
      "Sous-résultat : 8/9, 88.88% de réussite\n",
      "[np.int64(1), np.int64(0), np.int64(0), np.int64(1), np.int64(1), np.int64(1), np.int64(1), np.int64(1), np.int64(1)]\n",
      "Sous-résultat : 7/9, 77.77% de réussite\n",
      "[np.int64(0), np.int64(0), np.int64(0), np.int64(1), np.int64(0), np.int64(1), np.int64(1), np.int64(0), np.int64(0)]\n",
      "Sous-résultat : 3/9, 33.33% de réussite\n",
      "[np.int64(0), np.int64(1), np.int64(1), np.int64(1), np.int64(1), np.int64(1), np.int64(0), np.int64(1), np.int64(0)]\n",
      "Sous-résultat : 6/9, 66.66% de réussite\n",
      "[np.int64(1), np.int64(1), np.int64(1), np.int64(1), np.int64(1), np.int64(1), np.int64(1), np.int64(1), np.int64(0)]\n",
      "Sous-résultat : 8/9, 88.88% de réussite\n",
      "[np.int64(1), np.int64(0), np.int64(1), np.int64(0), np.int64(1), np.int64(0), np.int64(1), np.int64(0), np.int64(0)]\n",
      "Sous-résultat : 4/9, 44.44% de réussite\n",
      "[np.int64(1), np.int64(1), np.int64(1), np.int64(1), np.int64(1), np.int64(0), np.int64(1), np.int64(1), np.int64(1)]\n",
      "Sous-résultat : 8/9, 88.88% de réussite\n",
      "[np.int64(0), np.int64(1), np.int64(0), np.int64(1), np.int64(0), np.int64(1), np.int64(1), np.int64(0), np.int64(0)]\n",
      "Sous-résultat : 4/9, 44.44% de réussite\n",
      "[np.int64(1), np.int64(1), np.int64(1), np.int64(0), np.int64(1), np.int64(0), np.int64(0), np.int64(0), np.int64(1)]\n",
      "Sous-résultat : 5/9, 55.55% de réussite\n",
      "[np.int64(0), np.int64(1), np.int64(0), np.int64(1), np.int64(1), np.int64(0), np.int64(1), np.int64(0), np.int64(1)]\n",
      "Sous-résultat : 5/9, 55.55% de réussite\n",
      "[np.int64(0), np.int64(0), np.int64(0), np.int64(1), np.int64(1), np.int64(1), np.int64(1), np.int64(1), np.int64(0)]\n",
      "Sous-résultat : 5/9, 55.55% de réussite\n",
      "[np.int64(0), np.int64(1), np.int64(1), np.int64(1), np.int64(1), np.int64(1), np.int64(1), np.int64(1), np.int64(1)]\n",
      "Sous-résultat : 8/9, 88.88% de réussite\n",
      "[np.int64(1), np.int64(0), np.int64(1), np.int64(1), np.int64(0), np.int64(0), np.int64(1), np.int64(1), np.int64(1)]\n",
      "Sous-résultat : 6/9, 66.66% de réussite\n",
      "[np.int64(0), np.int64(1), np.int64(1), np.int64(0), np.int64(1), np.int64(0), np.int64(0), np.int64(1), np.int64(1)]\n",
      "Sous-résultat : 5/9, 55.55% de réussite\n",
      "[np.int64(1), np.int64(0), np.int64(1), np.int64(0), np.int64(1), np.int64(0), np.int64(1), np.int64(1), np.int64(1)]\n",
      "Sous-résultat : 6/9, 66.66% de réussite\n",
      "[np.int64(1), np.int64(1), np.int64(0), np.int64(1), np.int64(1), np.int64(1), np.int64(1), np.int64(0), np.int64(1)]\n",
      "Sous-résultat : 7/9, 77.77% de réussite\n",
      "[np.int64(0), np.int64(1), np.int64(1), np.int64(0), np.int64(0), np.int64(1), np.int64(1), np.int64(1), np.int64(1)]\n",
      "Sous-résultat : 6/9, 66.66% de réussite\n",
      "[np.int64(1), np.int64(1), np.int64(1), np.int64(0), np.int64(0), np.int64(1), np.int64(0), np.int64(0), np.int64(1)]\n",
      "Sous-résultat : 5/9, 55.55% de réussite\n",
      "[np.int64(1), np.int64(1), np.int64(0), np.int64(1), np.int64(0), np.int64(1), np.int64(0), np.int64(0), np.int64(1)]\n",
      "Sous-résultat : 5/9, 55.55% de réussite\n",
      "[np.int64(1), np.int64(1), np.int64(1), np.int64(1), np.int64(1), np.int64(1), np.int64(0), np.int64(0), np.int64(0)]\n",
      "Sous-résultat : 6/9, 66.66% de réussite\n",
      "[np.int64(1), np.int64(1), np.int64(1), np.int64(1), np.int64(1), np.int64(0), np.int64(0), np.int64(0), np.int64(1)]\n",
      "Sous-résultat : 6/9, 66.66% de réussite\n",
      "[np.int64(1), np.int64(1), np.int64(0), np.int64(1), np.int64(1), np.int64(1), np.int64(1), np.int64(0), np.int64(1)]\n",
      "Sous-résultat : 7/9, 77.77% de réussite\n",
      "[np.int64(0), np.int64(1), np.int64(0), np.int64(1), np.int64(0), np.int64(1), np.int64(1), np.int64(1), np.int64(0)]\n",
      "Sous-résultat : 5/9, 55.55% de réussite\n",
      "[np.int64(1), np.int64(1), np.int64(1), np.int64(0), np.int64(1), np.int64(1), np.int64(1), np.int64(0), np.int64(1)]\n",
      "Sous-résultat : 7/9, 77.77% de réussite\n",
      "[np.int64(1), np.int64(1), np.int64(1), np.int64(1), np.int64(1), np.int64(1), np.int64(1), np.int64(1), np.int64(0)]\n",
      "Sous-résultat : 8/9, 88.88% de réussite\n",
      "[np.int64(1), np.int64(0), np.int64(1), np.int64(0), np.int64(1), np.int64(0), np.int64(1), np.int64(1), np.int64(0)]\n",
      "Sous-résultat : 5/9, 55.55% de réussite\n",
      "[np.int64(0), np.int64(0), np.int64(1), np.int64(1), np.int64(0), np.int64(1), np.int64(1), np.int64(0), np.int64(0)]\n",
      "Sous-résultat : 4/9, 44.44% de réussite\n",
      "[np.int64(0), np.int64(0), np.int64(0), np.int64(1), np.int64(1), np.int64(1), np.int64(0), np.int64(0), np.int64(0)]\n",
      "Sous-résultat : 3/9, 33.33% de réussite\n",
      "[np.int64(1), np.int64(1), np.int64(0), np.int64(1), np.int64(0), np.int64(1), np.int64(1), np.int64(0), np.int64(1)]\n",
      "Sous-résultat : 6/9, 66.66% de réussite\n",
      "[np.int64(1), np.int64(0), np.int64(1), np.int64(0), np.int64(1), np.int64(0), np.int64(1), np.int64(0), np.int64(1)]\n",
      "Sous-résultat : 5/9, 55.55% de réussite\n",
      "[np.int64(1), np.int64(1), np.int64(0), np.int64(1), np.int64(1), np.int64(1), np.int64(0), np.int64(1), np.int64(1)]\n",
      "Sous-résultat : 7/9, 77.77% de réussite\n",
      "[np.int64(1), np.int64(0), np.int64(1), np.int64(0), np.int64(0), np.int64(1), np.int64(0), np.int64(1), np.int64(0)]\n",
      "Sous-résultat : 4/9, 44.44% de réussite\n",
      "[np.int64(1), np.int64(1), np.int64(1), np.int64(0), np.int64(1), np.int64(1), np.int64(0), np.int64(0), np.int64(0)]\n",
      "Sous-résultat : 5/9, 55.55% de réussite\n",
      "[np.int64(0), np.int64(1), np.int64(1), np.int64(1), np.int64(1), np.int64(0), np.int64(0), np.int64(1), np.int64(1)]\n",
      "Sous-résultat : 6/9, 66.66% de réussite\n",
      "[np.int64(0), np.int64(1), np.int64(1), np.int64(1), np.int64(0), np.int64(0), np.int64(1), np.int64(1), np.int64(0)]\n",
      "Sous-résultat : 5/9, 55.55% de réussite\n",
      "[np.int64(1), np.int64(1), np.int64(1), np.int64(0), np.int64(1), np.int64(0), np.int64(0), np.int64(1), np.int64(1)]\n",
      "Sous-résultat : 6/9, 66.66% de réussite\n",
      "[np.int64(1), np.int64(1), np.int64(1), np.int64(1), np.int64(0), np.int64(0), np.int64(1), np.int64(0), np.int64(1)]\n",
      "Sous-résultat : 6/9, 66.66% de réussite\n",
      "[np.int64(1), np.int64(0), np.int64(1), np.int64(0), np.int64(1), np.int64(0), np.int64(1), np.int64(1), np.int64(1)]\n",
      "Sous-résultat : 6/9, 66.66% de réussite\n",
      "[np.int64(1), np.int64(0), np.int64(1), np.int64(0), np.int64(1), np.int64(1), np.int64(1), np.int64(0), np.int64(1)]\n",
      "Sous-résultat : 6/9, 66.66% de réussite\n",
      "[np.int64(0), np.int64(1), np.int64(1), np.int64(1), np.int64(1), np.int64(1), np.int64(0), np.int64(1), np.int64(1)]\n",
      "Sous-résultat : 7/9, 77.77% de réussite\n",
      "[np.int64(1), np.int64(1), np.int64(0), np.int64(1), np.int64(1), np.int64(1), np.int64(1), np.int64(0), np.int64(1)]\n",
      "Sous-résultat : 7/9, 77.77% de réussite\n",
      "[np.int64(1), np.int64(1), np.int64(1), np.int64(1), np.int64(1), np.int64(1), np.int64(1), np.int64(1), np.int64(1)]\n",
      "Sous-résultat : 9/9, 100.0% de réussite\n",
      "[np.int64(1), np.int64(1), np.int64(1), np.int64(1), np.int64(0), np.int64(0), np.int64(1), np.int64(1), np.int64(1)]\n",
      "Sous-résultat : 7/9, 77.77% de réussite\n",
      "[np.int64(0), np.int64(1), np.int64(0), np.int64(1), np.int64(1), np.int64(0), np.int64(0), np.int64(1), np.int64(0)]\n",
      "Sous-résultat : 4/9, 44.44% de réussite\n",
      "[np.int64(0), np.int64(0), np.int64(1)]\n",
      "Sous-résultat : 1/3, 33.33% de réussite\n",
      "Résultat : 320/498\n",
      "Bankroll : 2179\n",
      "Pourcentage réussite : 64.25\n",
      "Dernier match : 17/05/2025\n",
      "\n",
      "\n"
     ]
    }
   ],
   "source": [
    "lenMatchGroups = 9\n",
    "data = get_data(dataframe, 'HA_Scored', 'Date', 'Note', lenMatchGroups, 42, 43, 1.7, 2, 13, 14, 1)"
   ]
  },
  {
   "cell_type": "code",
   "execution_count": 11,
   "metadata": {},
   "outputs": [
    {
     "name": "stdout",
     "output_type": "stream",
     "text": [
      "1\n",
      "Note : 0.42\n"
     ]
    },
    {
     "data": {
      "image/png": "[encoded data removed]",
      "text/plain": [
       "<Figure size 640x480 with 1 Axes>"
      ]
     },
     "metadata": {},
     "output_type": "display_data"
    }
   ],
   "source": [
    "print(len(data))\n",
    "get_plots(data, lenMatchGroups)"
   ]
  }
 ],
 "metadata": {
  "kernelspec": {
   "display_name": "Python 3",
   "language": "python",
   "name": "python3"
  },
  "language_info": {
   "codemirror_mode": {
    "name": "ipython",
    "version": 3
   },
   "file_extension": ".py",
   "mimetype": "text/x-python",
   "name": "python",
   "nbconvert_exporter": "python",
   "pygments_lexer": "ipython3",
   "version": "3.12.1"
  },
  "orig_nbformat": 4,
  "vscode": {
   "interpreter": {
    "hash": "aee8b7b246df8f9039afb4144a1f6fd8d2ca17a180786b69acc140d282b71a49"
   }
  }
 },
 "nbformat": 4,
 "nbformat_minor": 2
}
