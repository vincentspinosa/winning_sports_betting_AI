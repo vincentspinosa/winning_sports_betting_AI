{
 "cells": [
  {
   "cell_type": "code",
   "execution_count": 1,
   "metadata": {},
   "outputs": [],
   "source": [
    "import pandas as pd\n",
    "pd.set_option('display.max_columns', None)\n",
    "pd.set_option('display.max_rows', None)"
   ]
  },
  {
   "cell_type": "code",
   "execution_count": 2,
   "metadata": {},
   "outputs": [],
   "source": [
    "from dataload import *\n",
    "from model import *\n",
    "from research import *\n",
    "from helper_functions import *"
   ]
  },
  {
   "attachments": {},
   "cell_type": "markdown",
   "metadata": {},
   "source": [
    "DATA"
   ]
  },
  {
   "cell_type": "code",
   "execution_count": 3,
   "metadata": {},
   "outputs": [],
   "source": [
    "calculer = False"
   ]
  },
  {
   "cell_type": "code",
   "execution_count": 4,
   "metadata": {},
   "outputs": [
    {
     "name": "stdout",
     "output_type": "stream",
     "text": [
      "            Date          HomeTeam          AwayTeam  FTHG  FTAG  HA_Scored      Note\n",
      "4073  29/01/2023           Cambuur       For Sittard     1     2          1  0.377285\n",
      "4074  01/02/2023          Waalwijk   Go Ahead Eagles     3     1          1  0.500924\n",
      "4075  03/02/2023       For Sittard  Sparta Rotterdam     0     0          0  0.317782\n",
      "4076  04/02/2023          Volendam        AZ Alkmaar     1     1          1  0.549097\n",
      "4077  04/02/2023          FC Emmen           Vitesse     2     2          1  0.438255\n",
      "4078  04/02/2023           Utrecht        Heerenveen     1     0          0  0.349113\n",
      "4079  04/02/2023         Excelsior          Waalwijk     0     0          0  0.362927\n",
      "4080  05/02/2023           Cambuur              Ajax     0     5          0  0.414958\n",
      "4081  05/02/2023         Feyenoord     PSV Eindhoven     2     2          1  0.435343\n",
      "4082  05/02/2023   Go Ahead Eagles          Nijmegen     1     0          0  0.406888\n",
      "4083  05/02/2023         Groningen            Twente     1     1          1  0.434904\n",
      "4084  10/02/2023        AZ Alkmaar         Excelsior     5     0          0  0.479802\n",
      "4085  11/02/2023          Nijmegen           Cambuur     0     0          0  0.289144\n",
      "4086  11/02/2023     PSV Eindhoven         Groningen     6     0          0  0.356399\n",
      "4087  11/02/2023          FC Emmen       For Sittard     0     1          0  0.357858\n",
      "4088  12/02/2023  Sparta Rotterdam   Go Ahead Eagles     2     1          1  0.411704\n",
      "4089  12/02/2023        Heerenveen         Feyenoord     1     2          1  0.463418\n",
      "4090  12/02/2023           Vitesse           Utrecht     2     0          0  0.428785\n",
      "4091  12/02/2023              Ajax          Waalwijk     3     1          1  0.531272\n",
      "4092  12/02/2023            Twente          Volendam     3     0          0  0.323054\n",
      "\n"
     ]
    }
   ],
   "source": [
    "if calculer == False:\n",
    "  dataframe = pd.read_csv('../data/Pays-Bas/Eredevisie/N1_fullDataWithNotes.csv')\n",
    "else:\n",
    "  dataframe = pd.read_csv('../data/Pays-Bas/Eredevisie/N1 10:11.csv')\n",
    "  for i in range(10, 23):\n",
    "    d2 = pd.read_csv(f\"../data/Pays-Bas/Eredevisie/N1 {i}:{i + 1}.csv\")\n",
    "    dataframe = pd.concat([dataframe, d2])\n",
    "  dataframe = arrange_data(dataframe, 'FTHG', 'FTAG', 'HA_Scored')\n",
    "\n",
    "print(f\"{dataframe.tail(20).to_string()}\\n\")"
   ]
  },
  {
   "cell_type": "code",
   "execution_count": 5,
   "metadata": {},
   "outputs": [],
   "source": [
    "#display(dataframe.dtypes)"
   ]
  },
  {
   "attachments": {},
   "cell_type": "markdown",
   "metadata": {},
   "source": [
    "MODÈLE"
   ]
  },
  {
   "cell_type": "code",
   "execution_count": 6,
   "metadata": {},
   "outputs": [],
   "source": [
    "if calculer != False:\n",
    "    dataframe['Note'] = ''\n",
    "    dataframe = get_notes(dataframe, 'HomeTeam', 'AwayTeam', 'Date', 'Note', 'HA_Scored', 1)"
   ]
  },
  {
   "cell_type": "code",
   "execution_count": 7,
   "metadata": {},
   "outputs": [],
   "source": [
    "if calculer != False:\n",
    "    print(f\"{dataframe.tail(20).to_string()}\\n\")"
   ]
  },
  {
   "cell_type": "code",
   "execution_count": 8,
   "metadata": {},
   "outputs": [],
   "source": [
    "if calculer != False:\n",
    "    dtcsv = dataframe.to_csv(index=None)\n",
    "    fichier = open(\"../data/Pays-Bas/Eredevisie/N1_fullDataWithNotes.csv\", \"w\")\n",
    "    fichier.write(dtcsv)\n",
    "    fichier.close()\n",
    "    print(dtcsv)"
   ]
  },
  {
   "attachments": {},
   "cell_type": "markdown",
   "metadata": {},
   "source": [
    "RECHERCHE"
   ]
  },
  {
   "cell_type": "code",
   "execution_count": 9,
   "metadata": {},
   "outputs": [
    {
     "name": "stdout",
     "output_type": "stream",
     "text": [
      "Note : 0.55\n",
      "42% à chaque pari\n",
      "[1, 1, 1, 1, 1, 1, 0, 1, 1, 1, 1, 1, 1, 1, 1, 1, 1, 1, 1, 0, 1, 1, 1, 1, 1, 0, 1, 1, 1]\n",
      "Sous-résultat : 26/29, 89.65% de réussite\n",
      "[1, 0, 1, 1, 1, 1, 0, 1, 1, 1, 1, 1, 1, 1, 1, 1, 1, 1, 1, 1, 1, 0, 1, 1, 1, 1, 1, 1, 1]\n",
      "Sous-résultat : 26/29, 89.65% de réussite\n",
      "[1, 1, 1, 1, 0, 1, 1, 1, 1, 1, 1, 1, 1, 1, 1, 1, 0, 1, 0, 1, 0, 1, 1, 1, 1, 1, 0, 1, 1]\n",
      "Sous-résultat : 24/29, 82.75% de réussite\n",
      "[1, 1, 1, 1, 1, 1, 1, 1, 1, 1, 1, 1, 1, 1, 1, 1, 1, 1, 1, 1, 1, 1, 1, 1, 1, 1, 1, 1, 1]\n",
      "Sous-résultat : 29/29, 100.0% de réussite\n",
      "[1, 1, 1, 1, 0, 1, 1, 1, 1, 1, 1, 1, 1, 0, 1, 1, 1, 1, 1, 1, 1, 1, 1, 1, 1, 0, 1, 1, 1]\n",
      "Sous-résultat : 26/29, 89.65% de réussite\n",
      "[1, 1, 1, 1, 1, 1, 1, 1, 0, 1, 1, 1, 1, 1, 1, 1, 1, 1, 0, 1, 0, 1, 1, 1, 1, 0, 1, 1, 1]\n",
      "Sous-résultat : 25/29, 86.2% de réussite\n",
      "[1, 1, 1, 1, 1, 1, 1, 1, 1, 1, 1, 1, 1, 1, 1, 1, 1, 1, 1, 1, 1, 1, 1, 1, 1, 1, 1, 1, 1]\n",
      "Sous-résultat : 29/29, 100.0% de réussite\n",
      "[1, 1, 1, 1, 1, 1, 1, 1, 1, 1, 0, 1, 1, 1, 0, 1, 1, 0, 1, 1, 0, 1, 1, 1, 1, 1, 1, 1, 1]\n",
      "Sous-résultat : 25/29, 86.2% de réussite\n",
      "[1, 0, 1, 1, 1, 0, 1, 1, 1, 1, 1, 1, 1, 0, 1, 1, 1, 1, 1, 1, 1, 1, 1, 1, 1, 1, 1, 1, 1]\n",
      "Sous-résultat : 26/29, 89.65% de réussite\n",
      "[1, 1, 1, 1, 1, 1, 1, 0, 1, 0, 1, 1, 1, 1, 0, 1, 0, 1, 1, 1, 1, 1, 1, 0, 1, 1, 0, 1, 1]\n",
      "Sous-résultat : 23/29, 79.31% de réussite\n",
      "[1, 1, 1, 1, 1, 1, 1, 1, 1, 1, 1, 1, 1, 1, 1, 1, 1, 1, 1, 1, 1, 1, 1, 0, 1, 1, 1, 1, 1]\n",
      "Sous-résultat : 28/29, 96.55% de réussite\n",
      "[1, 1, 1, 1, 0, 1, 1, 0, 1, 1, 0, 1, 1, 1, 1, 1, 1, 1, 1, 1, 1, 1, 1, 1, 0, 1, 1, 1, 1]\n",
      "Sous-résultat : 25/29, 86.2% de réussite\n",
      "[1, 1, 1, 0, 1, 0, 1, 0, 1, 1, 1, 1, 1, 1, 1, 1, 1, 1, 1, 1, 1, 1, 1, 0, 1, 0, 1, 1, 1]\n",
      "Sous-résultat : 24/29, 82.75% de réussite\n",
      "[1, 1, 1, 1, 1, 1, 1, 0, 1, 1, 1, 1, 1, 1, 1, 1, 1, 1, 1, 1, 1, 1, 1, 1, 1, 1, 1, 1, 1]\n",
      "Sous-résultat : 28/29, 96.55% de réussite\n",
      "[1, 1, 1, 1, 1, 1, 1, 0, 1, 1, 1, 1, 1, 1, 1, 1, 1, 1, 1, 1, 1, 1, 1, 1, 1, 1, 1, 1, 1]\n",
      "Sous-résultat : 28/29, 96.55% de réussite\n",
      "[1, 1, 1, 1, 1, 0, 1, 1, 1, 1, 1, 1, 1, 1, 1, 1, 1, 1, 1, 1, 1, 1, 1, 1, 1, 1, 0, 1, 1]\n",
      "Sous-résultat : 27/29, 93.1% de réussite\n",
      "[1, 1, 1, 1, 0, 1, 1, 0, 1, 1, 1, 1, 1, 1, 1, 1, 1, 1, 1, 1, 0, 1, 1, 1, 1, 1, 1, 1, 1]\n",
      "Sous-résultat : 26/29, 89.65% de réussite\n",
      "[1, 1, 1, 1, 1, 1, 1, 1, 1, 1, 0, 1, 1, 1, 1, 1, 1, 1, 1, 1, 1, 1, 1, 0, 1, 1, 1, 1, 1]\n",
      "Sous-résultat : 27/29, 93.1% de réussite\n",
      "[1, 1, 1, 0, 1, 1, 1, 1, 1, 1, 1, 0, 1, 1, 1, 0, 0, 1, 1, 1, 1, 0, 1, 1, 1, 1, 1, 1, 1]\n",
      "Sous-résultat : 24/29, 82.75% de réussite\n",
      "[1, 1, 1, 1, 1, 1, 1, 1, 1, 1, 1, 0, 1, 1, 1, 1, 1, 1, 1, 1, 1, 1, 1, 1, 1, 1, 1, 1, 1]\n",
      "Sous-résultat : 28/29, 96.55% de réussite\n",
      "[1, 1, 1, 1, 1, 1, 1, 0, 0, 1, 1, 1, 1, 1, 1, 1, 1, 1, 1, 1, 1, 1, 1, 1, 1, 1, 1, 1, 1]\n",
      "Sous-résultat : 27/29, 93.1% de réussite\n",
      "[1, 1, 1, 1, 1, 1, 1, 1, 1, 1, 1, 0, 1, 1, 1, 1, 1, 1, 1, 0, 0, 1, 1, 1, 1, 1, 1, 1, 1]\n",
      "Sous-résultat : 26/29, 89.65% de réussite\n",
      "[0, 1, 1, 1, 1, 1, 1]\n",
      "Sous-résultat : 6/7, 85.71% de réussite\n",
      "Résultat : 583/645\n",
      "Bankroll : 448448875693260100935352320\n",
      "Pourcentage réussite : 90.38\n",
      "Dernier match : 28/01/2023\n",
      "\n",
      "\n"
     ]
    }
   ],
   "source": [
    "lenMatchGroups = 29\n",
    "data = get_data(dataframe, 'HA_Scored', 'Date', 'Note', lenMatchGroups, 55, 56, 1.4, 1, 42, 43, 1)"
   ]
  },
  {
   "cell_type": "code",
   "execution_count": 10,
   "metadata": {},
   "outputs": [
    {
     "name": "stdout",
     "output_type": "stream",
     "text": [
      "1\n",
      "Note : 0.55\n"
     ]
    },
    {
     "data": {
      "image/png": "[encoded data removed]",
      "text/plain": [
       "<Figure size 640x480 with 1 Axes>"
      ]
     },
     "metadata": {},
     "output_type": "display_data"
    }
   ],
   "source": [
    "print(len(data))\n",
    "get_plots(data, lenMatchGroups)"
   ]
  },
  {
   "attachments": {},
   "cell_type": "markdown",
   "metadata": {},
   "source": [
    "PARIS"
   ]
  },
  {
   "cell_type": "code",
   "execution_count": 11,
   "metadata": {},
   "outputs": [
    {
     "name": "stdout",
     "output_type": "stream",
     "text": [
      "0 - Twente\n",
      "1 - Volendam\n",
      "2 - Ajax\n",
      "3 - Waalwijk\n",
      "4 - Vitesse\n",
      "5 - Utrecht\n",
      "6 - Heerenveen\n",
      "7 - Feyenoord\n",
      "8 - Sparta Rotterdam\n",
      "9 - Go Ahead Eagles\n",
      "10 - FC Emmen\n",
      "11 - For Sittard\n",
      "12 - PSV Eindhoven\n",
      "13 - Groningen\n",
      "14 - Nijmegen\n",
      "15 - Cambuur\n",
      "16 - AZ Alkmaar\n",
      "17 - Excelsior\n"
     ]
    }
   ],
   "source": [
    "arrayEquipes = get_equipes(dataframe, 0, 18, 'HomeTeam', 'AwayTeam')\n",
    "\n",
    "print_array_equipes(arrayEquipes)"
   ]
  },
  {
   "cell_type": "code",
   "execution_count": 12,
   "metadata": {},
   "outputs": [
    {
     "name": "stdout",
     "output_type": "stream",
     "text": [
      "Match : Waalwijk - For Sittard\n",
      "Note : 0.4462690537797766\n",
      "\n",
      "Match : Volendam - Vitesse\n",
      "Note : 0.44369978758490913\n",
      "\n",
      "Match : Groningen - FC Emmen\n",
      "Note : 0.36036239103174517\n",
      "\n",
      "Match : Feyenoord - AZ Alkmaar\n",
      "Note : 0.5569315801279046\n",
      "\n",
      "Match : Cambuur - Heerenveen\n",
      "Note : 0.23064506087803693\n",
      "\n",
      "Match : Go Ahead Eagles - Twente\n",
      "Note : 0.4245037291774528\n",
      "\n",
      "Match : Utrecht - PSV Eindhoven\n",
      "Note : 0.38047664488920074\n",
      "\n",
      "Match : Ajax - Sparta Rotterdam\n",
      "Note : 0.44957589665485254\n",
      "\n",
      "Match : Excelsior - Nijmegen\n",
      "Note : 0.273066199194622\n",
      "\n"
     ]
    },
    {
     "data": {
      "text/plain": [
       "['Excelsior', 'Nijmegen', 0.273066199194622]"
      ]
     },
     "execution_count": 12,
     "metadata": {},
     "output_type": "execute_result"
    }
   ],
   "source": [
    "afficher_note_match(dataframe, arrayEquipes[3], arrayEquipes[11], 0, 'HomeTeam', 'AwayTeam', 'HA_Scored', 'Date')\n",
    "afficher_note_match(dataframe, arrayEquipes[1], arrayEquipes[4], 0, 'HomeTeam', 'AwayTeam', 'HA_Scored', 'Date')\n",
    "afficher_note_match(dataframe, arrayEquipes[13], arrayEquipes[10], 0, 'HomeTeam', 'AwayTeam', 'HA_Scored', 'Date')\n",
    "afficher_note_match(dataframe, arrayEquipes[7], arrayEquipes[16], 0, 'HomeTeam', 'AwayTeam', 'HA_Scored', 'Date')\n",
    "afficher_note_match(dataframe, arrayEquipes[15], arrayEquipes[6], 0, 'HomeTeam', 'AwayTeam', 'HA_Scored', 'Date')\n",
    "afficher_note_match(dataframe, arrayEquipes[9], arrayEquipes[0], 0, 'HomeTeam', 'AwayTeam', 'HA_Scored', 'Date')\n",
    "afficher_note_match(dataframe, arrayEquipes[5], arrayEquipes[12], 0, 'HomeTeam', 'AwayTeam', 'HA_Scored', 'Date')\n",
    "afficher_note_match(dataframe, arrayEquipes[2], arrayEquipes[8], 0, 'HomeTeam', 'AwayTeam', 'HA_Scored', 'Date')\n",
    "afficher_note_match(dataframe, arrayEquipes[17], arrayEquipes[14], 0, 'HomeTeam', 'AwayTeam', 'HA_Scored', 'Date')"
   ]
  },
  {
   "cell_type": "code",
   "execution_count": 13,
   "metadata": {},
   "outputs": [
    {
     "name": "stdout",
     "output_type": "stream",
     "text": [
      "92.39999999999999\n"
     ]
    }
   ],
   "source": [
    "print(calcul_somme(220, 0.42))"
   ]
  }
 ],
 "metadata": {
  "kernelspec": {
   "display_name": "Python 3",
   "language": "python",
   "name": "python3"
  },
  "language_info": {
   "codemirror_mode": {
    "name": "ipython",
    "version": 3
   },
   "file_extension": ".py",
   "mimetype": "text/x-python",
   "name": "python",
   "nbconvert_exporter": "python",
   "pygments_lexer": "ipython3",
   "version": "3.10.8"
  },
  "orig_nbformat": 4,
  "vscode": {
   "interpreter": {
    "hash": "aee8b7b246df8f9039afb4144a1f6fd8d2ca17a180786b69acc140d282b71a49"
   }
  }
 },
 "nbformat": 4,
 "nbformat_minor": 2
}
